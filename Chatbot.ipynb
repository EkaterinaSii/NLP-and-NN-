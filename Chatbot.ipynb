{
  "cells": [
    {
      "cell_type": "code",
      "execution_count": null,
      "metadata": {
        "colab": {
          "base_uri": "https://localhost:8080/"
        },
        "id": "O0Mflz6MBsfi",
        "outputId": "30184de8-655c-4720-d8a0-d6f2be5d9bff"
      },
      "outputs": [
        {
          "output_type": "stream",
          "name": "stderr",
          "text": [
            "[nltk_data] Downloading package punkt to /root/nltk_data...\n",
            "[nltk_data]   Package punkt is already up-to-date!\n",
            "[nltk_data] Downloading package wordnet to /root/nltk_data...\n",
            "[nltk_data]   Package wordnet is already up-to-date!\n"
          ]
        }
      ],
      "source": [
        "import nltk\n",
        "import random\n",
        "import string\n",
        "import re, string\n",
        "from nltk.stem.wordnet import WordNetLemmatizer\n",
        "nltk.download('punkt') \n",
        "nltk.download('wordnet')\n",
        "from sklearn.feature_extraction.text import TfidfVectorizer\n",
        "from sklearn.metrics.pairwise import cosine_similarity, linear_kernel"
      ]
    },
    {
      "cell_type": "code",
      "execution_count": null,
      "metadata": {
        "id": "1FtX-y9cYKgW"
      },
      "outputs": [],
      "source": [
        "def buildVectorizerFromSentences(sentences):\n",
        "  vectorizer = TfidfVectorizer(sublinear_tf=False,smooth_idf=True)\n",
        "  vectorizer.fit(sentences)\n",
        "  return vectorizer\n",
        "\n",
        "def getHighestSimilarity(sentences, question, vectorizer):\n",
        "  vectorizedSentences = vectorizer.transform(sentences)\n",
        "  vectorizedQuestion = vectorizer.transform([question])\n",
        "  cosineSimilarities = cosine_similarity(vectorizedSentences,vectorizedQuestion).flatten()\n",
        "  indexHighestSimilarity = cosineSimilarities.argsort()[-1]\n",
        "  highestSimilarity = cosineSimilarities[indexHighestSimilarity]\n",
        "  mostSimilarSentence = sentences[indexHighestSimilarity]\n",
        "  return highestSimilarity, mostSimilarSentence\n",
        "\n",
        "import random\n",
        "\n",
        "def getRandomSentence(sentences):\n",
        "  numberOfSentences = len(sentences)\n",
        "  randomIndex = random.randrange(0,numberOfSentences)\n",
        "  randomSentence = sentences[randomIndex]\n",
        "  return randomSentence"
      ]
    },
    {
      "cell_type": "code",
      "execution_count": null,
      "metadata": {
        "id": "sjru95sA93YR"
      },
      "outputs": [],
      "source": [
        "Facts = [\n",
        " 'Official Name of China is Peoples Republic of China ',\n",
        " 'The capital of China is Beijing (Peking)',\n",
        " 'Official language is Chinese, Mandarin',\n",
        " 'The populating of China is 1,439,323,776 people',\n",
        " 'The money (currency) of China is Yuan',\n",
        " 'The form of the government is Communist State',\n",
        " 'About a third of the population lives in cities, and the rest of the people live in the countryside.',\n",
        " 'The tallest mountain on Earth, Mount Everest, sits on the border between China and Nepal.',\n",
        " 'The artistic writing called calligraphy was invented in China.',\n",
        " 'China has several religions. Because of its large population, many world religions have adhered there. However, most Chinese usually practice Taoism, Confucianism, and Buddhism',\n",
        " 'The Chinese New Year celebration lasts for 15 days.',\n",
        " 'Interesting fact: In Ancient China, soldiers sometimes wore armour made from paper',\n",
        " 'The Forbidden City, a palace complex in Beijing, contains about 9,000 rooms!',\n",
        " '7th-century Emperor Tang of Shang had 94 \"ice men\" who made him ice-cream.',\n",
        " 'Developed about 5,000 years ago, the earliest chopsticks were used for cooking, not eating.',\n",
        " 'Hong Kong has more skyscrapers than any other city in the world.',\n",
        " 'It took around 37 years to make the Terracotta Army, a set of around 8,000 clay soldiers built in Xian to guard an Emperors tomb.',\n",
        " 'About wedding: Chinese brides often wear red, a colour considered to be lucky.',\n",
        " 'Family members living in one home is a reflection of Chinese success. Elders are highly revered in China.',\n",
        " 'Fortune cookies did not originate in China (it was invented in San Francisco) and it is not a traditional Chinese custom.',\n",
        " ]\n",
        "\n",
        "\n",
        "\n",
        "FactsVectorizer = buildVectorizerFromSentences(Facts)\n",
        "\n",
        "\n",
        "foodFacts = [\n",
        "  'Peking duck (北京烤鸭 Běijīng kǎoyā) is a famous dish from Beijing, enjoying world fame, and considered as one of China national dishes.',\n",
        "  'Kung Pao Chicken (宫保鸡丁 gōngbào jīdīng) is a famous Sichuan-style specialty, popular with both Chinese and foreigners. The major ingredients are diced chicken, dried chili, cucumber, and fried peanuts (or cashews).',\n",
        "  'Sweet and sour pork (糖醋里脊 tángcù lǐjǐ) has a bright orange-red color, and a delicious sweet and sour taste. At the very beginning there was only sweet and sour pork, but to meet demands, there have been some developments on this dish.',\n",
        "  'Hot pot, or hotpot (火锅 huǒguō), is one of the most popular dishes in China, especially in Sichuan Province or Chongqing. People cook in and eat from a simmering pot of soup stock (broth) on a gas/induction hob in the middle of the dining table with foodstuffs and condiments around the pot.',\n",
        "  'Dumplings (饺子 jiǎozi) are a traditional food type that is widely popular, especially in North China. Chinese dumplings consist of minced meat and/or chopped vegetables wrapped in a thin dough skin.',\n",
        "  'Ma Po tofu (麻婆豆腐 Mápó dòufǔ) is one of the most famous dishes in Chuan Cuisine (Sichuan food) with a history of more than 100 years. It consists of beancurd along with some minced meat (pork or beef) in a spicy sauce. The sauce is made from fermented black beans and chili paste (douban/douchi).',\n",
        "  'Fried rice (炒饭 chǎofàn) is a dish made from fried cooked rice and other ingredients, often including eggs, vegetables, seafood, or meat. Fried rice is one of the most common Chinese foods.',\n",
        "  'Xiǎolóngbāo (小笼包 small basket buns) are a kind of baozi (Chinese steamed bun). They are popular in Jiangsu and Shanghai. Xiaolongbao are traditionally cooked in a small bamboo basket, which gives them their name',\n",
        "  ]\n",
        "\n",
        "foodFactsVectorizer = buildVectorizerFromSentences(foodFacts)\n",
        "\n",
        "\n",
        "languageFacts = [\n",
        "    'Multiple factors blend together into making Chinese one of the hardest languages to learn for native English speakers. With a different writing system, different grammar, and even different pronunciation style and sound, there are not many things English and Chinese have in common.',\n",
        "    'Chinese Handwriting Is the Most Unrecognizable',\n",
        "    'Chinese Is One of the Oldest Languages Still in Use',\n",
        "    'Chinese Is a Tonal Language ',\n",
        "    'Borrowed Words from English Might Sound Familiar. Some examples include: kafei (咖啡 /kaa-fay/) = coffee, shafa (沙发 /shaa-faa/) = sofa, and qiaokeli (巧克力 /chyaow-ker-lee/) = chocolate.',\n",
        "    'Easy grammar: Chinese has no articles, verb inflections, or plurals.',\n",
        "    'Theres also no word to say \"yes\" in Chinese',\n",
        "    'Mandarin is not the only language in China. There are others such as Yue, Wu, Minbei, Minnan, Xiang, Gan and Hakka. Some regions in China also have their own dialects.',\n",
        "    'Basic phrases: Hello: 你好 – nǐ hǎo, How are you?: 你好吗 – nǐ hǎo ma, Goodbye: 再见 – zài jiàn, Thank you: 谢谢 – xiè xiè, Im sorry: 对不起 – duì bu qǐ',\n",
        "    'Numbers in Chinese: One 一  yī, Two 二  ér, Three 三  sān,Four 四  sì, Six 六  liù, Seven 七  qī, Eight 八  bā, Nine 九  jiǔ, Ten 十  shí, One hundred 一百  yì bǎi, One thousand 一千元  yì qiān yuán',\n",
        "    'Lear Chinese!',\n",
        "    ]\n",
        "\n",
        "languageFactsVectorizer = buildVectorizerFromSentences(languageFacts)\n"
      ]
    },
    {
      "cell_type": "code",
      "execution_count": null,
      "metadata": {
        "id": "RW7MpCzkAYcr"
      },
      "outputs": [],
      "source": [
        "def talkToChatbot():\n",
        "  greetings = ['Nǐ hǎo 🐉 What you wanna know?', \n",
        "               'Hello Hello! Want to know about Chinese food? 🍚🥢',\n",
        "               'Hei! Want to learn about Chinese culture? 🥠 ',\n",
        "               'Hi! I can tell more about China, just tell me what you wanna 🎋'\n",
        "        ]\n",
        "\n",
        "  goodbye = ['Was nice sharing some facts! See you later',\n",
        "             'Thanks for your interest! Till next time',\n",
        "             'You can always ask me questions about China later! Good luck!',\n",
        "             'If you will need me here, I will be waiting 🌝']\n",
        "\n",
        "  sorry = ['Not sure I know about it 🥺 I will explore more and tell you later!',\n",
        "           'Ooops, thats out of my knowledge. Make sure to ask later, I promise to explore',\n",
        "           'Sorry, not sure about the answer. Maybe you wanna know something else?',\n",
        "           'Error...Something weird, I dont have information about your request. Try something else!'\n",
        "           ]\n",
        "\n",
        "  \n",
        "  talking = True\n",
        "  print('✨✨ This chatbot is created to help learning little bit more about China, its culture, food and language! Please, ask questions and we will try to answer ✨✨')\n",
        "  print('✨✨If you want to quit just write \"bye\" ✨✨\\n')\n",
        "  print(getRandomSentence(greetings))\n",
        "  while(talking):\n",
        "    question = input(\"\\n✨✨> \")\n",
        "    if question == 'bye':\n",
        "      print(getRandomSentence(goodbye))\n",
        "      talking = False\n",
        "      break\n",
        "\n",
        "    FactsSimilarity, generalFactsmostSimilarSentence = getHighestSimilarity(Facts, question, FactsVectorizer)\n",
        "    foodFactsSimilarity, foodFactsSimilarSentence = getHighestSimilarity(foodFacts, question, foodFactsVectorizer)\n",
        "    languageFactsSimilarity, languageFactsmostSimilarSentence = getHighestSimilarity(languageFacts, question, languageFactsVectorizer)\n",
        "\n",
        "    ### Debug  ###\n",
        "    #print(FactsSimilarity)\n",
        "    #print(foodFactsSimilarity)\n",
        "    ##############################\n",
        "\n",
        "\n",
        "    if (FactsSimilarity > 0.22):\n",
        "      print(generalFactsmostSimilarSentence)\n",
        "    elif (languageFactsSimilarity > 0.2) :\n",
        "      print(languageFactsmostSimilarSentence)\n",
        "    elif (foodFactsSimilarity > 0.13):\n",
        "      print(foodFactsSimilarSentence)\n",
        "    else:\n",
        "      print(getRandomSentence(sorry))\n",
        "    # if (FactsSimilarity < 0.3) and (foodFactsSimilarity < 0.3) and (languageFactsSimilarity < 0.3):\n",
        "    #   print(getRandomSentence(sorry))\n",
        "    \n",
        "\n",
        "\n",
        "    # if (generalFactsSimilarity > 0.2):\n",
        "    #   print(generalFactsmostSimilarSentence)\n",
        "    # elif (interestingFactsSimilarity > 0.16):\n",
        "    #   print(interestingFactsmostSimilarSentence)\n",
        "    # elif (languageFactsSimilarity > 0.2):\n",
        "    #   print(languageFactsmostSimilarSentence)\n",
        "    # elif (foodFactsSimilarity > 0.13):\n",
        "    #   print(foodFactsSimilarSentence)\n",
        "    # else:\n",
        "    #   print(getRandomSentence(sorry))\n",
        "    \n",
        "    # Ask to repeat the question\n",
        "    # if (generalFactsSimilarity < 0.3) and (interestingFactsSimilarity < 0.3) and (foodFactsSimilarity < 0.3) and (languageFactsSimilarity < 0.3):\n",
        "    #   print(getRandomSentence(sorry))\n",
        "\n",
        "##############################################"
      ]
    },
    {
      "cell_type": "markdown",
      "metadata": {
        "id": "_CsYi7DrghY-"
      },
      "source": [
        "### Conversation 1"
      ]
    },
    {
      "cell_type": "code",
      "execution_count": null,
      "metadata": {
        "colab": {
          "base_uri": "https://localhost:8080/"
        },
        "id": "wq0jaTXgnKhF",
        "outputId": "1932743a-5632-4d1c-d428-4ae0ec7b3fb2"
      },
      "outputs": [
        {
          "name": "stdout",
          "output_type": "stream",
          "text": [
            "✨✨ This chatbot is created to help learning little bit more about China, its culture, food and language! Please, ask questions and we will try to answer ✨✨\n",
            "✨✨If you want to quit just write \"bye\" ✨✨\n",
            "\n",
            "Hello Hello! Want to know about Chinese food? 🍚🥢\n",
            "\n",
            "✨✨> Hey! What is the capital of China?\n",
            "The capital of China is Beijing (Peking)\n",
            "\n",
            "✨✨> Are Fortune cookies chinese?\n",
            "Fortune cookies did not originate in China (it was invented in San Francisco) and it is not a traditional Chinese custom.\n",
            "\n",
            "✨✨> wow, tell me about hotpot!\n",
            "The Forbidden City, a palace complex in Beijing, contains about 9,000 rooms!\n",
            "\n",
            "✨✨> What about Hot Pot?\n",
            "The Forbidden City, a palace complex in Beijing, contains about 9,000 rooms!\n",
            "\n",
            "✨✨> amazing...Tell me interesting Fact\n",
            "Interesting fact: In Ancient China, soldiers sometimes wore armour made from paper\n",
            "\n",
            "✨✨> Is there dish with chicken?\n",
            "Kung Pao Chicken (宫保鸡丁 gōngbào jīdīng) is a famous Sichuan-style specialty, popular with both Chinese and foreigners. The major ingredients are diced chicken, dried chili, cucumber, and fried peanuts (or cashews).\n",
            "\n",
            "✨✨> Is Chinese hard?\n",
            "Official language is Chinese, Mandarin\n",
            "\n",
            "✨✨> Is it the only language in China?\n",
            "Official language is Chinese, Mandarin\n",
            "\n",
            "✨✨> Are there other languages?\n",
            "Multiple factors blend together into making Chinese one of the hardest languages to learn for native English speakers. With a different writing system, different grammar, and even different pronunciation style and sound, there are not many things English and Chinese have in common.\n",
            "\n",
            "✨✨> ok...tell me about family\n",
            "Family members living in one home is a reflection of Chinese success. Elders are highly revered in China.\n",
            "\n",
            "✨✨> Can you teach me basic phrases? \n",
            "Basic phrases: Hello: 你好 – nǐ hǎo, How are you?: 你好吗 – nǐ hǎo ma, Goodbye: 再见 – zài jiàn, Thank you: 谢谢 – xiè xiè, Im sorry: 对不起 – duì bu qǐ\n",
            "\n",
            "✨✨> Do they eat pork?\n",
            "Not sure I know about it 🥺 I will explore more and tell you later!\n",
            "\n",
            "✨✨> Is there pork dishes? \n",
            "Chinese Is a Tonal Language \n",
            "\n",
            "✨✨> uum...how to say \"yes\"?\n",
            "It took around 37 years to make the Terracotta Army, a set of around 8,000 clay soldiers built in Xian to guard an Emperors tomb.\n",
            "\n",
            "✨✨> What is the money in China?\n",
            "The money (currency) of China is Yuan\n",
            "\n",
            "✨✨> What is calligraphy?\n",
            "The artistic writing called calligraphy was invented in China.\n",
            "\n",
            "✨✨> Do they live in villages?\n",
            "About a third of the population lives in cities, and the rest of the people live in the countryside.\n",
            "\n",
            "✨✨> What is peking duck?\n",
            "The capital of China is Beijing (Peking)\n",
            "\n",
            "✨✨> Is there duck dish?\n",
            "Chinese Is a Tonal Language \n",
            "\n",
            "✨✨> bye\n",
            "Thanks for your interest! Till next time\n"
          ]
        }
      ],
      "source": [
        "talkToChatbot()"
      ]
    },
    {
      "cell_type": "markdown",
      "metadata": {
        "id": "-l76Iv8GgjnR"
      },
      "source": [
        "### Conversation 2"
      ]
    },
    {
      "cell_type": "code",
      "execution_count": null,
      "metadata": {
        "colab": {
          "base_uri": "https://localhost:8080/"
        },
        "id": "bvrT8xTiglcj",
        "outputId": "f82fe200-04cc-4f06-e328-9023c9f0ab36"
      },
      "outputs": [
        {
          "output_type": "stream",
          "name": "stdout",
          "text": [
            "✨✨ This chatbot is created to help learning little bit more about China, its culture, food and language! Please, ask questions and we will try to answer ✨✨\n",
            "✨✨If you want to quit just write \"bye\" ✨✨\n",
            "\n",
            "Hello Hello! Want to know about Chinese food? 🍚🥢\n",
            "\n",
            "✨✨> Yeah.Whats hot pot?\n",
            "Hot pot, or hotpot (火锅 huǒguō), is one of the most popular dishes in China, especially in Sichuan Province or Chongqing. People cook in and eat from a simmering pot of soup stock (broth) on a gas/induction hob in the middle of the dining table with foodstuffs and condiments around the pot.\n",
            "\n",
            "✨✨> nice. What about baozi?\n",
            "The Forbidden City, a palace complex in Beijing, contains about 9,000 rooms!\n",
            "\n",
            "✨✨> oh well...ok. Whats baozi?\n",
            "Xiǎolóngbāo (小笼包 small basket buns) are a kind of baozi (Chinese steamed bun). They are popular in Jiangsu and Shanghai. Xiaolongbao are traditionally cooked in a small bamboo basket, which gives them their name\n",
            "\n",
            "✨✨> yummy! Is there dish with pork?\n",
            "Sweet and sour pork (糖醋里脊 tángcù lǐjǐ) has a bright orange-red color, and a delicious sweet and sour taste. At the very beginning there was only sweet and sour pork, but to meet demands, there have been some developments on this dish.\n",
            "\n",
            "✨✨> wow, is it spicy?\n",
            "Fortune cookies did not originate in China (it was invented in San Francisco) and it is not a traditional Chinese custom.\n",
            "\n",
            "✨✨> uum...ok\n",
            "Not sure I know about it 🥺 I will explore more and tell you later!\n",
            "\n",
            "✨✨> is China big?\n",
            "Official Name of China is Peoples Republic of China \n",
            "\n",
            "✨✨> What about population?\n",
            "About a third of the population lives in cities, and the rest of the people live in the countryside.\n",
            "\n",
            "✨✨> wow! Do they have mountains?\n",
            "Error...Something weird, I dont have information about your request. Try something else!\n",
            "\n",
            "✨✨> Tell me about mountain in China\n",
            "The tallest mountain on Earth, Mount Everest, sits on the border between China and Nepal.\n",
            "\n",
            "✨✨> cool. I heard that family live together in China, is it true?\n",
            "Fortune cookies did not originate in China (it was invented in San Francisco) and it is not a traditional Chinese custom.\n",
            "\n",
            "✨✨> i know that! \n",
            "Dumplings (饺子 jiǎozi) are a traditional food type that is widely popular, especially in North China. Chinese dumplings consist of minced meat and/or chopped vegetables wrapped in a thin dough skin.\n",
            "\n",
            "✨✨> sounds tasty\n",
            "Error...Something weird, I dont have information about your request. Try something else!\n",
            "\n",
            "✨✨> Can you teach me Chinese?\n",
            "Official language is Chinese, Mandarin\n",
            "\n",
            "✨✨> Is it only official language/\n",
            "Official language is Chinese, Mandarin\n",
            "\n",
            "✨✨> Are there more languages?\n",
            "Multiple factors blend together into making Chinese one of the hardest languages to learn for native English speakers. With a different writing system, different grammar, and even different pronunciation style and sound, there are not many things English and Chinese have in common.\n",
            "\n",
            "✨✨> I know its hard :c \n",
            "Error...Something weird, I dont have information about your request. Try something else!\n",
            "\n",
            "✨✨> Do they use chopstics?\n",
            "Chinese Is One of the Oldest Languages Still in Use\n",
            "\n",
            "✨✨> oh i wrote it wrong...what about chopsticks?\n",
            "Developed about 5,000 years ago, the earliest chopsticks were used for cooking, not eating.\n",
            "\n",
            "✨✨> What do you know about North China?\n",
            "Official Name of China is Peoples Republic of China \n",
            "\n",
            "✨✨> oki oki..i have to go\n",
            "It took around 37 years to make the Terracotta Army, a set of around 8,000 clay soldiers built in Xian to guard an Emperors tomb.\n",
            "\n",
            "✨✨> bye!\n",
            "Error...Something weird, I dont have information about your request. Try something else!\n",
            "\n",
            "✨✨> bye\n",
            "Was nice sharing some facts! See you later\n"
          ]
        }
      ],
      "source": [
        "\n",
        "talkToChatbot()"
      ]
    }
  ],
  "metadata": {
    "colab": {
      "provenance": []
    },
    "kernelspec": {
      "display_name": "Python 3",
      "name": "python3"
    },
    "language_info": {
      "name": "python"
    }
  },
  "nbformat": 4,
  "nbformat_minor": 0
}